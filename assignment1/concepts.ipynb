{
 "cells": [
  {
   "cell_type": "code",
   "execution_count": 37,
   "metadata": {},
   "outputs": [],
   "source": [
    "import numpy as np\n",
    "from collections import Counter"
   ]
  },
  {
   "cell_type": "markdown",
   "metadata": {},
   "source": [
    "Jaccard coefficient\n",
    "$J(x,y) = \\frac{|x \\cap y|}{|x \\cup y|}$"
   ]
  },
  {
   "cell_type": "code",
   "execution_count": 56,
   "metadata": {},
   "outputs": [],
   "source": [
    "def jaccard_coef(x,y):\n",
    "    x, y = list(set(x)), list(set(y))\n",
    "    count = Counter(x+y)\n",
    "    intersect = [key for key in count if count[key] > 1]\n",
    "    union = list(count.keys())\n",
    "    return len(intersect)/len(union)"
   ]
  },
  {
   "cell_type": "code",
   "execution_count": 57,
   "metadata": {},
   "outputs": [
    {
     "data": {
      "text/plain": [
       "0.3333333333333333"
      ]
     },
     "execution_count": 57,
     "metadata": {},
     "output_type": "execute_result"
    }
   ],
   "source": [
    "x = [1,2]\n",
    "y = [2,3]\n",
    "jaccard_coef(x,y)"
   ]
  },
  {
   "cell_type": "code",
   "execution_count": 58,
   "metadata": {},
   "outputs": [
    {
     "data": {
      "text/plain": [
       "1.0"
      ]
     },
     "execution_count": 58,
     "metadata": {},
     "output_type": "execute_result"
    }
   ],
   "source": [
    "jaccard_coef(x,x)"
   ]
  },
  {
   "cell_type": "markdown",
   "metadata": {},
   "source": [
    "### String edit distance\n",
    "\n",
    "time complexity: $\\mathcal{O}(m \\cdot n)$"
   ]
  },
  {
   "cell_type": "code",
   "execution_count": 119,
   "metadata": {},
   "outputs": [
    {
     "data": {
      "text/plain": [
       "3.0"
      ]
     },
     "execution_count": 119,
     "metadata": {},
     "output_type": "execute_result"
    }
   ],
   "source": [
    "def stringEditDistance(x,y):\n",
    "    m,n = len(x), len(y)\n",
    "    distTable = np.zeros((m+1,n+1))\n",
    "    distTable[0] = range(n+1)\n",
    "    distTable[:,0] = range(m+1)\n",
    "    \n",
    "    for j in range(1,n+1):\n",
    "        for i in range(1,m+1):     \n",
    "            if x[i-1] == y[j-1]:\n",
    "                distTable[i][j] = distTable[i-1][j-1]\n",
    "            else:\n",
    "                distTable[i][j] = 1 + min([distTable[i-1][j-1],distTable[i-1][j],distTable[i][j-1]])\n",
    "                \n",
    "    return distTable[m-1][n-1]\n",
    "\n",
    "\n",
    "stringEditDistance(\"kitten\",\"sitting\")"
   ]
  },
  {
   "cell_type": "code",
   "execution_count": 120,
   "metadata": {},
   "outputs": [
    {
     "data": {
      "text/plain": [
       "3.0"
      ]
     },
     "execution_count": 120,
     "metadata": {},
     "output_type": "execute_result"
    }
   ],
   "source": [
    "stringEditDistance(\"abag\",\"baaga\")"
   ]
  },
  {
   "cell_type": "code",
   "execution_count": 121,
   "metadata": {},
   "outputs": [
    {
     "data": {
      "text/plain": [
       "3.0"
      ]
     },
     "execution_count": 121,
     "metadata": {},
     "output_type": "execute_result"
    }
   ],
   "source": [
    "str1 = \"sunday\"\n",
    "str2 = \"saturday\"\n",
    "stringEditDistance(str1,str2)"
   ]
  }
 ],
 "metadata": {
  "kernelspec": {
   "display_name": "Python 3",
   "language": "python",
   "name": "python3"
  },
  "language_info": {
   "codemirror_mode": {
    "name": "ipython",
    "version": 3
   },
   "file_extension": ".py",
   "mimetype": "text/x-python",
   "name": "python",
   "nbconvert_exporter": "python",
   "pygments_lexer": "ipython3",
   "version": "3.6.5"
  }
 },
 "nbformat": 4,
 "nbformat_minor": 2
}
