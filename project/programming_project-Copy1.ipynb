{
 "cells": [
  {
   "cell_type": "markdown",
   "metadata": {},
   "source": [
    "# CS-E4600 Data Mining - Programming project\n",
    "\n",
    "Adam Ilyas 725819\n",
    "\n",
    "The tasks you have to complete for the programming project are the following:\n",
    "1. design and implement your own graph-partitioning method;\n",
    "2. submit your solution, which should include the source code you developed and a report;"
   ]
  },
  {
   "cell_type": "markdown",
   "metadata": {},
   "source": [
    "We will use graphs from the Stanford Network Analysis Project (SNAP)\n",
    "\n",
    "http://snap.stanford.edu/data/index.html\n",
    "\n",
    "in particular, you can consider the following 5 collaboration networks:\n",
    "\n",
    "```\n",
    "ca-AstroPh, ca-CondMat, ca-GrQc, ca-HepPh, ca-HepTh\n",
    "```\n",
    "\n",
    "File formate\n",
    "first line:\n",
    "`# graphID numOfVertices numOfEdges k`\n",
    "\n",
    "Subsequent values:\n",
    "`vertex1ID vertex2ID`\n",
    "\n",
    "We will be implementing 3 algorithms here\n",
    "1. [Unnormalized spectral clustering](#algo1)\n",
    "2. [Normalized spectral clustering (generalized eigenproblem)](#algo2)\n",
    "3. [Normalized spectral clustering (generalized eigenproblem) W normalized U](#algo3)\n",
    "3. [Normalized spectral clustering (normalize U)](#algo4)"
   ]
  },
  {
   "cell_type": "code",
   "execution_count": 1,
   "metadata": {},
   "outputs": [],
   "source": [
    "import networkx as nx \n",
    "import scipy as sp\n",
    "import numpy as np"
   ]
  },
  {
   "cell_type": "code",
   "execution_count": 2,
   "metadata": {},
   "outputs": [
    {
     "name": "stdout",
     "output_type": "stream",
     "text": [
      "['#', 'ca-HepTh', '8638', '24827', '20']\n"
     ]
    }
   ],
   "source": [
    "file_path = './graphs-1/ca-HepTh.txt'\n",
    "values = open(file_path).read().split('\\n')\n",
    "graph_info = values[0].split()\n",
    "print(graph_info)"
   ]
  },
  {
   "cell_type": "code",
   "execution_count": 3,
   "metadata": {},
   "outputs": [
    {
     "name": "stdout",
     "output_type": "stream",
     "text": [
      "# ca-HepTh 8638 24827 20\n"
     ]
    }
   ],
   "source": [
    "file_path = './graphs-1/ca-HepTh.txt'\n",
    "values = open(file_path).read().split('\\n')\n",
    "graph_info = values[0]\n",
    "print(graph_info)\n",
    "\n",
    "k = int(graph_info.split()[-1])\n",
    "graph = nx.read_edgelist(file_path)"
   ]
  },
  {
   "cell_type": "markdown",
   "metadata": {},
   "source": [
    "## Graph-partitioning task:\n",
    "Given an undirected graph $G = (V, E)$ and an integer\n",
    "$k > 1$ \n",
    "\n",
    "we want to partition the set of vertices $V$ into $k$ communities  \n",
    "$V_1 , \\dots, V_k$ so that $\\cap_{i=1}^k V_i = V$\n",
    "\n",
    "We want our communities $V_1 , \\dots, V_k$ to be as much seperate from each other as possible. We also want the communities to have roughly equal size. \n",
    "\n",
    "Thus, we will evaluate the goodness of\n",
    "a partition $V_1 , \\dots, V_k$ by **minimizing** the objective function:\n",
    "\n",
    "$$\\phi(V_1 , \\dots, V_k) = \\frac{E(V_1 , \\dots, V_k)}{\\min_{1 \\leq i \\leq k} |V_i|}$$\n",
    "\n",
    "where $E(V_1 , \\dots, V_k)$ is the set of edges of G that is “cut” by the k communities: \n",
    "$$E(V_1 , \\dots, V_k) = \\{ (u,v) \\in E \\;| \\; u \\in V_i \\text{ and } v \\in V_j \\text{ where } i \\neq j \\}$$"
   ]
  },
  {
   "cell_type": "markdown",
   "metadata": {},
   "source": [
    "You should implement a program that reads a problem instance in the format specified above and\n",
    "produces a partition $V_1 , \\dots, V_k$ for which the objective function $\\phi(V_1 , \\dots, V_k)$ is as small as possible"
   ]
  },
  {
   "cell_type": "markdown",
   "metadata": {},
   "source": [
    "<a id='algo1'></a>\n",
    "## Algorithm 1: Unnormalized spectral clustering\n",
    "**input**: graph adjacency matrix $A$, number $k$\n",
    "1. form diagonal matrix $D$\n",
    "2. form unormalized Laplacian $L = D − A$\n",
    "3. compute the first $k$ eigenvectors $u_1 , \\dots, u_k$ of $L$ (unnormalized Laplacian)\n",
    "4. form matrix $U \\in \\texttt{R}^{n \\times k}$ with columns $u_1, \\dots, u_k$\n",
    "5. consider the i-th row of $U$ as point $y_i \\in \\texttt{R}^k, \\; i=1, \\dots, n$\n",
    "6. cluster (kmeans) the points $\\{y_i\\}_{i=1, \\dots, n}$ into clusters $C_1, \\dots, C_k$\n",
    "\n",
    "\n",
    "**output** clusters $A_1, \\dots A_k$\n"
   ]
  },
  {
   "cell_type": "code",
   "execution_count": 3,
   "metadata": {},
   "outputs": [],
   "source": [
    "from sklearn.cluster import KMeans\n",
    "from sklearn.preprocessing import normalize"
   ]
  },
  {
   "cell_type": "code",
   "execution_count": 4,
   "metadata": {},
   "outputs": [
    {
     "name": "stdout",
     "output_type": "stream",
     "text": [
      "# ca-HepTh 8638 24827 20\n"
     ]
    }
   ],
   "source": [
    "file_path = './graphs-1/ca-HepTh.txt'\n",
    "values = open(file_path).read().split('\\n')\n",
    "graph_info = values[0]\n",
    "print(graph_info)\n",
    "\n",
    "k = int(graph_info.split()[-1])\n",
    "graph = nx.read_edgelist(file_path)"
   ]
  },
  {
   "cell_type": "code",
   "execution_count": 5,
   "metadata": {},
   "outputs": [
    {
     "data": {
      "text/plain": [
       "(8638, 20)"
      ]
     },
     "execution_count": 5,
     "metadata": {},
     "output_type": "execute_result"
    }
   ],
   "source": [
    "# form diagonal matrix D\n",
    "adjacency_matrix = nx.adjacency_matrix(graph)\n",
    "diagonal_matrix = np.diag(np.ravel(np.sum(adjacency_matrix, axis = 1)))\n",
    "\n",
    "# form unnormalized laplacian\n",
    "unnormalized_laplacian = diagonal_matrix - adjacency_matrix\n",
    "\n",
    "# first k eigenvectors of L\n",
    "eigenvalues, eigenvectors = np.linalg.eigh(unnormalized_laplacian)\n",
    "u = eigenvectors[:, :k]\n",
    "u.shape"
   ]
  },
  {
   "cell_type": "code",
   "execution_count": 6,
   "metadata": {},
   "outputs": [
    {
     "name": "stdout",
     "output_type": "stream",
     "text": [
      "{0: 8394, 10: 7, 12: 23, 4: 14, 18: 7, 14: 15, 15: 14, 8: 26, 5: 6, 2: 27, 13: 5, 11: 8, 19: 14, 6: 10, 17: 9, 1: 18, 16: 5, 9: 4, 3: 5, 7: 7}\n"
     ]
    }
   ],
   "source": [
    "# cluster using k means\n",
    "kmeans = KMeans(n_clusters=k).fit(u)\n",
    "labels = kmeans.labels_\n",
    "\n",
    "counts = {}\n",
    "for label in labels:\n",
    "    if label in counts:\n",
    "        counts[label] += 1\n",
    "    else:\n",
    "        counts[label] = 0\n",
    "print(counts)"
   ]
  },
  {
   "cell_type": "code",
   "execution_count": 7,
   "metadata": {},
   "outputs": [
    {
     "name": "stdout",
     "output_type": "stream",
     "text": [
      "No. of cuts: 1219\n",
      "Cost: 304.75\n"
     ]
    }
   ],
   "source": [
    "# Calculate partition cost (kmeans.labels_, k, graph.edges)\n",
    "# calculate cut\n",
    "# for every edge, there is a cut if\n",
    "# u and v does not belong to the same cluster\n",
    "cuts = 0\n",
    "\n",
    "if len(counts) != k:\n",
    "    partition_cost = float('-inf')\n",
    "else:\n",
    "    for (u, v) in list(graph.edges):\n",
    "        # if u and v not same cluster\n",
    "        if labels[int(u)] != labels[int(v)]:\n",
    "            cuts += 1\n",
    "            \n",
    "    min_cluster_size = min(counts.values())\n",
    "    partition_cost = cuts/ min_cluster_size\n",
    "    print('No. of cuts: %s' % cuts) \n",
    "    print('Cost: %s' % partition_cost) "
   ]
  },
  {
   "cell_type": "markdown",
   "metadata": {},
   "source": [
    "## Algorithm 2: Normalized spectral clustering (generalized eigenproblem)\n",
    "<a id='algo2'></a>\n",
    "**input**: graph adjacency matrix $A$, number $k$\n",
    "1. form diagonal matrix $D$\n",
    "2. form unnormalized Laplacian $L = D − A$\n",
    "\n",
    "3. compute the first $k$ eigenvectors $u_1 , \\dots, u_k$ of the\n",
    "_generalized eigenproblem_ $L \\mathbf{u} = \\lambda D \\mathbf{u}$\n",
    "(eigenvectors of $L_{rw}$)\n",
    "\n",
    "4. form matrix $U \\in \\texttt{R}^{n \\times k}$ with columns $u_1, \\dots, u_k$\n",
    "5. consider the i-th row of $U$ as point $y_i \\in \\texttt{R}^k, \\; i=1, \\dots, n$\n",
    "6. cluster (kmeans) the points $\\{y_i\\}_{i=1, \\dots, n}$ into clusters $C_1, \\dots, C_k$\n",
    "\n",
    "**output** clusters $A_1, \\dots A_k$\n",
    "\n",
    "This algorithm is similar to \n",
    "[algorithm 1](#algo1). The difference is in step 3 where we find the\n",
    "eigenvectors $u_1 , \\dots, u_k$ of the\n",
    "_generalized eigenproblem_ instead of the _unnormalized laplacian_\n",
    "\n",
    "$L_{rw} := I - D^{-1} A$\n",
    "\n",
    "`d_inverse` $= D^{-1}$ "
   ]
  },
  {
   "cell_type": "code",
   "execution_count": 8,
   "metadata": {},
   "outputs": [
    {
     "data": {
      "text/plain": [
       "(8638, 20)"
      ]
     },
     "execution_count": 8,
     "metadata": {},
     "output_type": "execute_result"
    }
   ],
   "source": [
    "# laplacian\n",
    "identity_matrix = np.identity(adjacency_matrix.shape[0])\n",
    "d_inverse = np.linalg.inv(diagonal_matrix)\n",
    "laplacian_rw = np.subtract(identity_matrix, d_inverse@adjacency_matrix)\n",
    "\n",
    "# first k eigenvectors of L\n",
    "eigenvalues, eigenvectors = np.linalg.eigh(laplacian_rw)\n",
    "U = eigenvectors[:, :k]\n",
    "U.shape"
   ]
  },
  {
   "cell_type": "code",
   "execution_count": 9,
   "metadata": {},
   "outputs": [
    {
     "name": "stdout",
     "output_type": "stream",
     "text": [
      "{0: 8442, 2: 9, 7: 5, 14: 13, 15: 35, 17: 7, 12: 12, 5: 7, 19: 14, 8: 6, 11: 15, 6: 8, 13: 6, 3: 6, 16: 19, 18: 7, 4: 8, 1: 7, 9: 7, 10: 5}\n"
     ]
    }
   ],
   "source": [
    "# cluster using k means\n",
    "kmeans = KMeans(n_clusters=k).fit(U)\n",
    "labels = kmeans.labels_\n",
    "\n",
    "counts = {}\n",
    "for label in labels:\n",
    "    if label in counts:\n",
    "        counts[label] += 1\n",
    "    else:\n",
    "        counts[label] = 1\n",
    "print(counts)"
   ]
  },
  {
   "cell_type": "code",
   "execution_count": 10,
   "metadata": {},
   "outputs": [
    {
     "name": "stdout",
     "output_type": "stream",
     "text": [
      "No. of cuts: 1302\n",
      "Cost: 260.4\n"
     ]
    }
   ],
   "source": [
    "# Calculate partition cost (kmeans.labels_, k, graph.edges)\n",
    "cuts = 0\n",
    "\n",
    "if len(counts) != k:\n",
    "    partition_cost = float('-inf')\n",
    "else:\n",
    "    for (u, v) in list(graph.edges):\n",
    "        # if u and v not same cluster\n",
    "        if labels[int(u)] != labels[int(v)]:\n",
    "            cuts += 1\n",
    "            \n",
    "    min_cluster_size = min(counts.values())\n",
    "    partition_cost = cuts/ min_cluster_size\n",
    "    print('No. of cuts: %s' % cuts) \n",
    "    print('Cost: %s' % partition_cost) "
   ]
  },
  {
   "cell_type": "markdown",
   "metadata": {},
   "source": [
    "<a id='algo3'></a>\n",
    "## Algorithm 3: Normalized spectral clustering (generalized eigenproblem, normalized U)\n",
    "\n",
    "This algorithm is the same as\n",
    "[algorithm 2](#algo2) but we _normalize_ $U$ so that rows have norm 1"
   ]
  },
  {
   "cell_type": "code",
   "execution_count": 11,
   "metadata": {},
   "outputs": [
    {
     "name": "stdout",
     "output_type": "stream",
     "text": [
      "{8: 777, 17: 2567, 18: 208, 3: 264, 4: 133, 10: 198, 14: 554, 19: 370, 1: 971, 16: 328, 15: 111, 2: 223, 11: 187, 9: 185, 5: 410, 6: 224, 12: 218, 13: 107, 0: 243, 7: 360}\n"
     ]
    }
   ],
   "source": [
    "# normalize U\n",
    "normed_U = normalize(U, axis=1, norm='l1')\n",
    "normed_U.shape\n",
    "\n",
    "kmeans = KMeans(n_clusters=k).fit(normed_U)\n",
    "labels = kmeans.labels_\n",
    "\n",
    "counts = {}\n",
    "for label in labels:\n",
    "    if label in counts:\n",
    "        counts[label] += 1\n",
    "    else:\n",
    "        counts[label] = 1\n",
    "print(counts)"
   ]
  },
  {
   "cell_type": "code",
   "execution_count": 12,
   "metadata": {},
   "outputs": [
    {
     "name": "stdout",
     "output_type": "stream",
     "text": [
      "No. of cuts: 21612\n",
      "Cost: 201.98130841121494\n"
     ]
    }
   ],
   "source": [
    "# Calculate partition cost (kmeans.labels_, k, graph.edges)\n",
    "cuts = 0\n",
    "\n",
    "if len(counts) != k:\n",
    "    partition_cost = float('-inf')\n",
    "else:\n",
    "    for (u, v) in list(graph.edges):\n",
    "        # if u and v not same cluster\n",
    "        if labels[int(u)] != labels[int(v)]:\n",
    "            cuts += 1\n",
    "            \n",
    "    min_cluster_size = min(counts.values())\n",
    "    partition_cost = cuts/ min_cluster_size\n",
    "    print('No. of cuts: %s' % cuts) \n",
    "    print('Cost: %s' % partition_cost) "
   ]
  },
  {
   "cell_type": "markdown",
   "metadata": {},
   "source": [
    "## Algorithm 4: Normalized spectral clustering (normalize U)\n",
    "<a id='algo4'></a>\n",
    "**input**: graph adjacency matrix $A$, number $k$\n",
    "1. form diagonal matrix $D$\n",
    "2. form normalized Laplacian $L^\\prime = I - D^{-1/2} A D^{-1/2}$\n",
    "\n",
    "3. compute the first $k$ eigenvectors $u_1 , \\dots, u_k$ of $L^\\prime$\n",
    "\n",
    "4. form matrix $U \\in \\texttt{R}^{n \\times k}$ with columns $u_1, \\dots, u_k$\n",
    "\n",
    "5. _normalize_ $U$ so that rows have norm 1\n",
    "6. consider the i-th row of $U$ as point $y_i \\in \\texttt{R}^k, \\; i=1, \\dots, n$\n",
    "7. cluster (kmeans) the points $\\{y_i\\}_{i=1, \\dots, n}$ into clusters $C_1, \\dots, C_k$\n",
    "\n",
    "\n",
    "**output** clusters $A_1, \\dots A_k$\n",
    "\n",
    "This algorithm is similar to \n",
    "[algorithm 1](#algo1). The difference is in \n",
    "- step 2 we have _normalized laplacian_ instead of the _unnormalized laplacian_ $L^\\prime := I - D^{-1/2} A D^{-1/2}$\n",
    "- step 5 we _normalize_ $U$\n",
    "\n",
    "`d_minus_half` $= D^{-1/2}$"
   ]
  },
  {
   "cell_type": "code",
   "execution_count": 15,
   "metadata": {},
   "outputs": [],
   "source": [
    "identity_matrix = np.identity(adjacency_matrix.shape[0])\n",
    "\n",
    "#\n",
    "d_minus_half = np.diag(diagonal_matrix)\n",
    "d_minus_half = np.diag(np.power(d_minus_half, -0.5))\n",
    "\n",
    "normalized_laplacian = np.subtract(identity_matrix, \n",
    "                                   d_minus_half@adjacency_matrix@d_minus_half)\n",
    "\n",
    "# first k eigenvectors of L\n",
    "eigenvalues, eigenvectors = np.linalg.eigh(normalized_laplacian)"
   ]
  },
  {
   "cell_type": "code",
   "execution_count": 20,
   "metadata": {},
   "outputs": [
    {
     "name": "stdout",
     "output_type": "stream",
     "text": [
      "U shape: (8638, 20)\n",
      "Norm U shape: (8638, 20)\n"
     ]
    }
   ],
   "source": [
    "U = eigenvectors[:, :k]\n",
    "print('U shape: ' + str(U.shape))\n",
    "\n",
    "# normalize U\n",
    "normed_U = normalize(U, axis=1, norm='l1')\n",
    "print('Norm U shape: ' + str(normed_U.shape))"
   ]
  },
  {
   "cell_type": "code",
   "execution_count": 21,
   "metadata": {},
   "outputs": [
    {
     "name": "stdout",
     "output_type": "stream",
     "text": [
      "{2: 4968, 1: 1515, 12: 518, 0: 636, 17: 124, 7: 54, 6: 183, 11: 104, 10: 117, 4: 55, 8: 24, 15: 16, 16: 36, 5: 60, 3: 52, 18: 25, 19: 20, 9: 29, 14: 85, 13: 17}\n"
     ]
    }
   ],
   "source": [
    "kmeans = KMeans(n_clusters=k).fit(normed_U)\n",
    "labels = kmeans.labels_\n",
    "\n",
    "counts = {}\n",
    "for label in labels:\n",
    "    if label in counts:\n",
    "        counts[label] += 1\n",
    "    else:\n",
    "        counts[label] = 1\n",
    "print(counts)"
   ]
  },
  {
   "cell_type": "code",
   "execution_count": 22,
   "metadata": {},
   "outputs": [
    {
     "name": "stdout",
     "output_type": "stream",
     "text": [
      "No. of cuts: 15518\n",
      "Cost: 969.875\n"
     ]
    }
   ],
   "source": [
    "# Calculate partition cost (kmeans.labels_, k, graph.edges)\n",
    "# calculate cut\n",
    "# for every edge, there is a cut if\n",
    "# u and v does not belong to the same cluster\n",
    "cuts = 0\n",
    "\n",
    "if len(counts) != k:\n",
    "    partition_cost = float('-inf')\n",
    "else:\n",
    "    for (u, v) in list(graph.edges):\n",
    "        # if u and v not same cluster\n",
    "        if labels[int(u)] != labels[int(v)]:\n",
    "            cuts += 1\n",
    "            \n",
    "    min_cluster_size = min(counts.values())\n",
    "    partition_cost = cuts/ min_cluster_size\n",
    "    print('No. of cuts: %s' % cuts) \n",
    "    print('Cost: %s' % partition_cost) "
   ]
  },
  {
   "cell_type": "markdown",
   "metadata": {},
   "source": [
    "# Implement Code\n",
    "\n",
    "1. [Unnormalized spectral clustering](#algo1)\n",
    "2. [Normalized spectral clustering (generalized eigenproblem)](#algo2)\n",
    "3. [Normalized spectral clustering (generalized eigenproblem) W normalized U](#algo3)\n",
    "4. [Normalized spectral clustering (normalize U)](#algo4)"
   ]
  },
  {
   "cell_type": "code",
   "execution_count": 23,
   "metadata": {},
   "outputs": [],
   "source": [
    "import matplotlib.pyplot as plt"
   ]
  },
  {
   "cell_type": "code",
   "execution_count": 27,
   "metadata": {},
   "outputs": [],
   "source": [
    "def spectral_clustering(graph, k, algo):\n",
    "    # form adjacency matrix A and diagonal matrix D\n",
    "    adjacency_matrix = nx.adjacency_matrix(graph)\n",
    "    diagonal_matrix = np.diag(np.ravel(np.sum(adjacency_matrix, axis = 1)))\n",
    "    \n",
    "    assert algo in [1,2,3,4]\n",
    "    if algo==1:\n",
    "        # form unnormalized laplacian\n",
    "        laplacian = diagonal_matrix - adjacency_matrix\n",
    "    elif algo in [2,3]:\n",
    "        identity_matrix = np.identity(adjacency_matrix.shape[0])\n",
    " \n",
    "        # form laplacian_rw\n",
    "        d_inverse = np.linalg.inv(diagonal_matrix)\n",
    "        laplacian = np.subtract(identity_matrix, d_inverse@adjacency_matrix)\n",
    "    elif algo==4:\n",
    "        identity_matrix = np.identity(adjacency_matrix.shape[0])\n",
    "        \n",
    "        # form normalized laplacian\n",
    "        d_minus_half = np.diag(diagonal_matrix)\n",
    "        d_minus_half = np.diag(np.power(d_minus_half, -0.5))\n",
    "\n",
    "        laplacian = np.subtract(identity_matrix, d_minus_half@adjacency_matrix@d_minus_half)\n",
    "\n",
    "    # first k eigenvectors of L\n",
    "    eigenvalues, eigenvectors = np.linalg.eigh(laplacian)\n",
    "    u = eigenvectors[:, :k]\n",
    "    if algo in [3,4]:\n",
    "        # normalize U so that rows have norm 1\n",
    "        u = normalize(u, axis=1, norm='l1')\n",
    "        \n",
    "    kmeans = KMeans(n_clusters=k).fit(u)\n",
    "    labels = kmeans.labels_\n",
    "\n",
    "    counts = {}\n",
    "    for label in labels:\n",
    "        if label in counts:\n",
    "            counts[label] += 1\n",
    "        else:\n",
    "            counts[label] = 1\n",
    "    \n",
    "    cuts = 0\n",
    "\n",
    "    if len(counts) != k:\n",
    "        partition_cost = float('-inf')\n",
    "        min_cluster_size = min(counts.values())\n",
    "    else:\n",
    "        for (u, v) in list(graph.edges):\n",
    "            # if u and v not same cluster\n",
    "            if labels[int(u)] != labels[int(v)]:\n",
    "                cuts += 1\n",
    "        min_cluster_size = min(counts.values())\n",
    "        partition_cost = cuts/ min_cluster_size\n",
    "        \n",
    "\n",
    "    print('Cluster counts: \\n%s' % counts)\n",
    "    print('No. of cuts: %s' % cuts) \n",
    "    print('Cost: %s' % partition_cost)\n",
    "        \n",
    "    return labels, partition_cost"
   ]
  },
  {
   "cell_type": "code",
   "execution_count": 29,
   "metadata": {},
   "outputs": [
    {
     "name": "stdout",
     "output_type": "stream",
     "text": [
      "# ca-HepTh 8638 24827 20\n",
      "Cluster counts: \n",
      "{0: 8395, 6: 8, 1: 24, 2: 15, 19: 8, 16: 16, 17: 15, 8: 27, 5: 7, 3: 28, 11: 6, 13: 9, 15: 15, 12: 11, 14: 10, 4: 19, 18: 6, 9: 5, 10: 6, 7: 8}\n",
      "No. of cuts: 1219\n",
      "Cost: 243.8\n",
      "Cluster counts: \n",
      "{0: 8455, 18: 9, 1: 5, 4: 13, 10: 35, 3: 7, 6: 14, 14: 6, 17: 15, 13: 5, 19: 8, 5: 6, 9: 6, 2: 19, 16: 7, 7: 8, 12: 7, 8: 7, 15: 1, 11: 5}\n",
      "No. of cuts: 1214\n",
      "Cost: 1214.0\n",
      "Cluster counts: \n",
      "{3: 761, 6: 276, 5: 2817, 7: 260, 14: 133, 16: 198, 0: 556, 12: 379, 1: 840, 17: 110, 15: 226, 13: 209, 11: 183, 10: 409, 4: 224, 18: 126, 2: 222, 9: 107, 19: 242, 8: 360}\n",
      "No. of cuts: 21272\n",
      "Cost: 198.80373831775702\n",
      "Cluster counts: \n",
      "{0: 5433, 8: 1576, 16: 670, 2: 124, 3: 152, 4: 54, 1: 92, 5: 46, 11: 24, 17: 16, 6: 110, 12: 36, 15: 60, 9: 52, 13: 17, 18: 25, 19: 20, 14: 29, 7: 85, 10: 17}\n",
      "No. of cuts: 13951\n",
      "Cost: 871.9375\n",
      "# ca-GrQc 4158 13428 2\n",
      "Cluster counts: \n",
      "{0: 4146, 1: 12}\n",
      "No. of cuts: 106\n",
      "Cost: 8.833333333333334\n",
      "Cluster counts: \n",
      "{0: 4151, 1: 7}\n",
      "No. of cuts: 47\n",
      "Cost: 6.714285714285714\n",
      "Cluster counts: \n",
      "{1: 1741, 0: 2417}\n",
      "No. of cuts: 6550\n",
      "Cost: 3.76220562894888\n",
      "Cluster counts: \n",
      "{0: 4108, 1: 50}\n",
      "No. of cuts: 263\n",
      "Cost: 5.26\n"
     ]
    },
    {
     "data": {
      "image/png": "[encoded data removed]",
      "text/plain": [
       "<Figure size 864x288 with 2 Axes>"
      ]
     },
     "metadata": {},
     "output_type": "display_data"
    }
   ],
   "source": [
    "# calculate partition cost for all algorithms\n",
    "paths = ['./graphs-1/ca-HepTh.txt', './graphs-1/ca-GrQc.txt']paths = ['./graphs-1/ca-HepTh.txt', './graphs-1/ca-GrQc.txt']\n",
    "fig, axes = plt.subplots(ncols=len(paths), figsize=(12,4))\n",
    "\n",
    "for i, file_path in enumerate(paths):\n",
    "    values = open(file_path).read().split('\\n')\n",
    "    graph_info = values[0]\n",
    "    print(graph_info)\n",
    "\n",
    "    name = graph_info.split()[1]\n",
    "    k = int(graph_info.split()[-1])\n",
    "    graph = nx.read_edgelist(file_path)\n",
    "\n",
    "    all_cost = []\n",
    "\n",
    "    for algo in [1,2,3,4]:\n",
    "        labels, partition_cost = spectral_clustering(graph, k, algo)\n",
    "        all_cost.append(partition_cost)\n",
    "        \n",
    "    # plot    \n",
    "    y_pos = [0,1,2,3]\n",
    "    axes[i].bar(y_pos, all_cost, align='center')\n",
    "    axes[i].set_ylabel('Partition Cost')\n",
    "    axes[i].set_xlabel('Algorithm')\n",
    "    axes[i].set_xticks(y_pos)\n",
    "    axes[i].set_title(name)"
   ]
  },
  {
   "cell_type": "markdown",
   "metadata": {},
   "source": [
    "For both algorithms, [Normalized spectral clustering (generalized eigenproblem) W normalized U](#algo3) has the lowest (best) partition score thus produces the most balanced graph partition."
   ]
  },
  {
   "cell_type": "code",
   "execution_count": null,
   "metadata": {},
   "outputs": [],
   "source": [
    "labels, partition_cost = spectral_clustering(graph, k, 3)"
   ]
  },
  {
   "cell_type": "code",
   "execution_count": null,
   "metadata": {},
   "outputs": [],
   "source": [
    "def labels_output(graph_path, labels):\n",
    "    graph_name = graph_path.split('.txt')[0]\n",
    "    output_path = graph_name + \"_labels.txt\"\n",
    "    print(output_path)\n",
    "    file = open(output_path, \"w\")\n",
    "    \n",
    "    for i in range(len(labels)):\n",
    "        label = labels[i]\n",
    "        line = '%s %s\\n' % (i, label)\n",
    "        file.write(line)"
   ]
  },
  {
   "cell_type": "code",
   "execution_count": null,
   "metadata": {},
   "outputs": [],
   "source": [
    "paths = ['./graphs-1/ca-HepTh.txt', './graphs-1/ca-GrQc.txt']\n",
    "for file_path in paths:\n",
    "    labels_output(file_path, labels)"
   ]
  },
  {
   "cell_type": "code",
   "execution_count": null,
   "metadata": {},
   "outputs": [],
   "source": []
  }
 ],
 "metadata": {
  "kernelspec": {
   "display_name": "Python 3",
   "language": "python",
   "name": "python3"
  },
  "language_info": {
   "codemirror_mode": {
    "name": "ipython",
    "version": 3
   },
   "file_extension": ".py",
   "mimetype": "text/x-python",
   "name": "python",
   "nbconvert_exporter": "python",
   "pygments_lexer": "ipython3",
   "version": "3.6.5"
  }
 },
 "nbformat": 4,
 "nbformat_minor": 2
}
