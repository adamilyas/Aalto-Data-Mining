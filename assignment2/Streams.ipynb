{
 "cells": [
  {
   "cell_type": "markdown",
   "metadata": {},
   "source": [
    "## Reservoir sampling\n",
    "\n",
    "problem: take a uniform sample s from a stream of\n",
    "unknown length\n",
    "\n",
    "algorithm:\n",
    "- initially s ← $x_1$\n",
    "- on seeing the t-th element, s ← $x_t$ with probability $1/t$"
   ]
  },
  {
   "cell_type": "code",
   "execution_count": 2,
   "metadata": {},
   "outputs": [],
   "source": [
    "import numpy as np"
   ]
  },
  {
   "cell_type": "code",
   "execution_count": 3,
   "metadata": {},
   "outputs": [],
   "source": [
    "N = 120000\n",
    "arr = np.random.rand(N)"
   ]
  },
  {
   "cell_type": "code",
   "execution_count": 27,
   "metadata": {},
   "outputs": [],
   "source": [
    "def reservoir_sample(arr):\n",
    "    N = len(arr)\n",
    "    sample = None\n",
    "    index = 0\n",
    "    for i in range(N):\n",
    "        element = arr[i]\n",
    "        p = 1/(i+1)\n",
    "        U = np.random.rand()\n",
    "        if U <= p:\n",
    "            sample = element\n",
    "            index = i\n",
    "            \n",
    "    return sample, index"
   ]
  },
  {
   "cell_type": "code",
   "execution_count": 30,
   "metadata": {},
   "outputs": [
    {
     "name": "stdout",
     "output_type": "stream",
     "text": [
      "61583\n",
      "10806\n",
      "56854\n",
      "89163\n",
      "112893\n",
      "4312\n",
      "72084\n",
      "80538\n",
      "43706\n",
      "25206\n"
     ]
    }
   ],
   "source": [
    "for i in range(10):\n",
    "    print(reservoir_sample(arr)[1])"
   ]
  },
  {
   "cell_type": "code",
   "execution_count": 4,
   "metadata": {},
   "outputs": [
    {
     "data": {
      "text/plain": [
       "[0.35343414991656297]"
      ]
     },
     "execution_count": 4,
     "metadata": {},
     "output_type": "execute_result"
    }
   ],
   "source": [
    "import random\n",
    "def random_subset( iterator, K ):\n",
    "    result = []\n",
    "    N = 0\n",
    "\n",
    "    for item in iterator:\n",
    "        N += 1\n",
    "        if len( result ) < K:\n",
    "            result.append( item )\n",
    "        else:\n",
    "            s = int(random.random() * N) \n",
    "            # N is i-th, starting from 1\n",
    "            # randomly choose one element of the current sample\n",
    "            # swap with incoming element\n",
    "            if s < K:\n",
    "                result[ s ] = item\n",
    "\n",
    "    return result\n",
    "\n",
    "random_subset(arr,1)"
   ]
  },
  {
   "cell_type": "markdown",
   "metadata": {},
   "source": [
    "## Priority sampling for sliding window\n",
    "\n",
    "expected number of elements in sliding window $\\mathcal{O}(\\log{w})$\n",
    "expected space requirement is  $\\mathcal{O}(\\log{w} \\log{n})$\n",
    "\n",
    "- maintain a uniform sample from the last w items\n",
    "Algo\n",
    "```\n",
    "for each x_i in X:\n",
    "    pick random value v_i = (0,1)\n",
    "    for window size w, return element x_i with smallest v_i\n",
    "```\n",
    "\n",
    "to do this, maintain set of all elements in sliding window\n",
    "whose v value is minimal among all subsequent values\n",
    "\n",
    "Correctness\n",
    "- each element in window has equal chance to be selected into the random sample\n",
    "- each minimal element x removed from\n",
    "memory has a smaller element y that comes after;\n",
    "x will expire before y , so x will never be needed again\n",
    "- memory has always at least one element (if memory is empty when a element is removed, the incoming element is the minimal)"
   ]
  },
  {
   "cell_type": "code",
   "execution_count": 6,
   "metadata": {},
   "outputs": [],
   "source": [
    "numData=100\n",
    "stream1=np.random.random(numData)"
   ]
  }
 ],
 "metadata": {
  "kernelspec": {
   "display_name": "Python 3",
   "language": "python",
   "name": "python3"
  },
  "language_info": {
   "codemirror_mode": {
    "name": "ipython",
    "version": 3
   },
   "file_extension": ".py",
   "mimetype": "text/x-python",
   "name": "python",
   "nbconvert_exporter": "python",
   "pygments_lexer": "ipython3",
   "version": "3.6.5"
  }
 },
 "nbformat": 4,
 "nbformat_minor": 2
}
